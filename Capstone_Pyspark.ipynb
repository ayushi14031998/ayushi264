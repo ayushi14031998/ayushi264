{
 "cells": [
  {
   "cell_type": "code",
   "execution_count": 1,
   "id": "6cf1e6f6",
   "metadata": {},
   "outputs": [],
   "source": [
    "from pyspark.sql import SparkSession"
   ]
  },
  {
   "cell_type": "code",
   "execution_count": 2,
   "id": "70a02eb7",
   "metadata": {},
   "outputs": [],
   "source": [
    "spark=SparkSession.builder.appName(\"Spark sql code\").enableHiveSupport().getOrCreate()"
   ]
  },
  {
   "cell_type": "code",
   "execution_count": 3,
   "id": "8bf1512f",
   "metadata": {},
   "outputs": [
    {
     "data": {
      "text/html": [
       "\n",
       "            <div>\n",
       "                <p><b>SparkSession - hive</b></p>\n",
       "                \n",
       "        <div>\n",
       "            <p><b>SparkContext</b></p>\n",
       "\n",
       "            <p><a href=\"http://g01.itversity.com:4041\">Spark UI</a></p>\n",
       "\n",
       "            <dl>\n",
       "              <dt>Version</dt>\n",
       "                <dd><code>v3.0.1</code></dd>\n",
       "              <dt>Master</dt>\n",
       "                <dd><code>yarn</code></dd>\n",
       "              <dt>AppName</dt>\n",
       "                <dd><code>Spark sql code</code></dd>\n",
       "            </dl>\n",
       "        </div>\n",
       "        \n",
       "            </div>\n",
       "        "
      ],
      "text/plain": [
       "<pyspark.sql.session.SparkSession at 0x7fd1ecc7c6d8>"
      ]
     },
     "execution_count": 3,
     "metadata": {},
     "output_type": "execute_result"
    }
   ],
   "source": [
    "spark"
   ]
  },
  {
   "cell_type": "code",
   "execution_count": 4,
   "id": "7e5f257b",
   "metadata": {},
   "outputs": [],
   "source": [
    "# Part-1 Create PySpark dataframes and read data from the two Hive tables.\n",
    "\n",
    "StudentCourseCompleteStatus=spark.read.table(\"ayushi_fractal.studentcoursecompletionstatus\")\n",
    "studentCourseDetails=spark.read.table(\"ayushi_fractal.coursedetails\")"
   ]
  },
  {
   "cell_type": "code",
   "execution_count": 5,
   "id": "0e03e1d8",
   "metadata": {},
   "outputs": [
    {
     "name": "stdout",
     "output_type": "stream",
     "text": [
      "root\n",
      " |-- studentsid: string (nullable = true)\n",
      " |-- courseid: string (nullable = true)\n",
      " |-- examdate: string (nullable = true)\n",
      " |-- attendedstatus: string (nullable = true)\n",
      " |-- marks: integer (nullable = true)\n",
      " |-- result: string (nullable = true)\n",
      "\n"
     ]
    }
   ],
   "source": [
    "StudentCourseCompleteStatus.printSchema()"
   ]
  },
  {
   "cell_type": "code",
   "execution_count": 6,
   "id": "cabea2a9",
   "metadata": {},
   "outputs": [
    {
     "name": "stdout",
     "output_type": "stream",
     "text": [
      "root\n",
      " |-- coursetype: string (nullable = true)\n",
      " |-- courseid: string (nullable = true)\n",
      " |-- title: string (nullable = true)\n",
      " |-- competency: string (nullable = true)\n",
      " |-- complexity: string (nullable = true)\n",
      "\n"
     ]
    }
   ],
   "source": [
    "studentCourseDetails.printSchema()"
   ]
  },
  {
   "cell_type": "code",
   "execution_count": 7,
   "id": "3bf07819",
   "metadata": {},
   "outputs": [
    {
     "data": {
      "text/plain": [
       "pyspark.sql.dataframe.DataFrame"
      ]
     },
     "execution_count": 7,
     "metadata": {},
     "output_type": "execute_result"
    }
   ],
   "source": [
    "type(StudentCourseCompleteStatus)"
   ]
  },
  {
   "cell_type": "code",
   "execution_count": 8,
   "id": "cfa07131",
   "metadata": {},
   "outputs": [
    {
     "data": {
      "text/plain": [
       "pyspark.sql.dataframe.DataFrame"
      ]
     },
     "execution_count": 8,
     "metadata": {},
     "output_type": "execute_result"
    }
   ],
   "source": [
    "type(studentCourseDetails)"
   ]
  },
  {
   "cell_type": "code",
   "execution_count": 9,
   "id": "704e46d9",
   "metadata": {},
   "outputs": [
    {
     "name": "stdout",
     "output_type": "stream",
     "text": [
      "+-------------+-----+\n",
      "|       result|count|\n",
      "+-------------+-----+\n",
      "|Not Qualified|  149|\n",
      "|    Qualified|  151|\n",
      "+-------------+-----+\n",
      "\n"
     ]
    }
   ],
   "source": [
    "# Part-2 Find the total number of students per result category \n",
    "\n",
    "StudentCourseCompleteStatus.groupBy('result').count().show()"
   ]
  },
  {
   "cell_type": "code",
   "execution_count": 10,
   "id": "7912b032",
   "metadata": {},
   "outputs": [
    {
     "data": {
      "text/plain": [
       "149"
      ]
     },
     "execution_count": 10,
     "metadata": {},
     "output_type": "execute_result"
    }
   ],
   "source": [
    "#Find the total number of students absent\n",
    "df = s_abs = StudentCourseCompleteStatus.where(StudentCourseCompleteStatus['attendedstatus']=='Absent').count()\n",
    "df"
   ]
  },
  {
   "cell_type": "code",
   "execution_count": 11,
   "id": "0662944b",
   "metadata": {},
   "outputs": [
    {
     "data": {
      "text/html": [
       "<table border='1'>\n",
       "<tr><th>max(marks)</th></tr>\n",
       "<tr><td>92</td></tr>\n",
       "</table>\n"
      ],
      "text/plain": [
       "+----------+\n",
       "|max(marks)|\n",
       "+----------+\n",
       "|        92|\n",
       "+----------+"
      ]
     },
     "execution_count": 11,
     "metadata": {},
     "output_type": "execute_result"
    }
   ],
   "source": [
    "#Find the maximum, minimum and average marks scored by students\n",
    "\n",
    "s_max = StudentCourseCompleteStatus.agg({'marks': 'max'})\n",
    "s_max"
   ]
  },
  {
   "cell_type": "code",
   "execution_count": 12,
   "id": "f2d17949",
   "metadata": {},
   "outputs": [
    {
     "data": {
      "text/html": [
       "<table border='1'>\n",
       "<tr><th>min(marks)</th></tr>\n",
       "<tr><td>0</td></tr>\n",
       "</table>\n"
      ],
      "text/plain": [
       "+----------+\n",
       "|min(marks)|\n",
       "+----------+\n",
       "|         0|\n",
       "+----------+"
      ]
     },
     "execution_count": 12,
     "metadata": {},
     "output_type": "execute_result"
    }
   ],
   "source": [
    "s_min = StudentCourseCompleteStatus.agg({'marks': 'min'})\n",
    "s_min"
   ]
  },
  {
   "cell_type": "code",
   "execution_count": 13,
   "id": "8b47b5b3",
   "metadata": {},
   "outputs": [
    {
     "data": {
      "text/html": [
       "<table border='1'>\n",
       "<tr><th>avg(marks)</th></tr>\n",
       "<tr><td>40.013333333333335</td></tr>\n",
       "</table>\n"
      ],
      "text/plain": [
       "+------------------+\n",
       "|        avg(marks)|\n",
       "+------------------+\n",
       "|40.013333333333335|\n",
       "+------------------+"
      ]
     },
     "execution_count": 13,
     "metadata": {},
     "output_type": "execute_result"
    }
   ],
   "source": [
    "s_avg = StudentCourseCompleteStatus.agg({'marks': 'avg'})\n",
    "s_avg"
   ]
  },
  {
   "cell_type": "code",
   "execution_count": null,
   "id": "caa03c43",
   "metadata": {},
   "outputs": [],
   "source": []
  },
  {
   "cell_type": "code",
   "execution_count": null,
   "id": "85379a6d",
   "metadata": {},
   "outputs": [],
   "source": []
  }
 ],
 "metadata": {
  "kernelspec": {
   "display_name": "Pyspark 3",
   "language": "python",
   "name": "pyspark3"
  },
  "language_info": {
   "codemirror_mode": {
    "name": "ipython",
    "version": 3
   },
   "file_extension": ".py",
   "mimetype": "text/x-python",
   "name": "python",
   "nbconvert_exporter": "python",
   "pygments_lexer": "ipython3",
   "version": "3.6.12"
  }
 },
 "nbformat": 4,
 "nbformat_minor": 5
}
